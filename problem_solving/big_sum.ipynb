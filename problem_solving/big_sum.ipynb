{
 "cells": [
  {
   "cell_type": "code",
   "execution_count": 3,
   "id": "8ed59817",
   "metadata": {},
   "outputs": [
    {
     "name": "stdout",
     "output_type": "stream",
     "text": [
      "5\n",
      "1000000001 1000000002 1000000003 1000000004 1000000005\n",
      "5000000015\n"
     ]
    }
   ],
   "source": [
    "def aVeryBigSum(ar):\n",
    "    sum = 0\n",
    "    for i in range(0,ar_count):\n",
    "        sum += ar[i]\n",
    "    print(sum)\n",
    "\n",
    "if __name__ == '__main__':\n",
    "\n",
    "    ar_count = int(input())\n",
    "\n",
    "    ar = list(map(int, input().rstrip().split()))\n",
    "\n",
    "    aVeryBigSum(ar)"
   ]
  }
 ],
 "metadata": {
  "kernelspec": {
   "display_name": "Python 3 (ipykernel)",
   "language": "python",
   "name": "python3"
  },
  "language_info": {
   "codemirror_mode": {
    "name": "ipython",
    "version": 3
   },
   "file_extension": ".py",
   "mimetype": "text/x-python",
   "name": "python",
   "nbconvert_exporter": "python",
   "pygments_lexer": "ipython3",
   "version": "3.8.8"
  }
 },
 "nbformat": 4,
 "nbformat_minor": 5
}
