{
 "cells": [
  {
   "cell_type": "code",
   "execution_count": 5,
   "id": "6034afe4",
   "metadata": {},
   "outputs": [
    {
     "name": "stdout",
     "output_type": "stream",
     "text": [
      "07:05:45PM\n"
     ]
    }
   ],
   "source": [
    "def timeConversion(s):\n",
    "    if s[-2:] == \"PM\":\n",
    "        hours = s[:2]\n",
    "        if hours != \"12\":\n",
    "            return str(int(hours) + 12) + s[2:-2]\n",
    "        else:\n",
    "            return s[:-2]\n",
    "    elif s[-2:] == \"AM\":\n",
    "        hours = s[:2]\n",
    "        if hours != \"12\":\n",
    "            return s[:-2]\n",
    "        else:\n",
    "            return \"00\" + s[2:-2]\n",
    "if __name__ == '__main__':\n",
    "    s = input()\n",
    "\n",
    "    result = timeConversion(s)"
   ]
  },
  {
   "cell_type": "code",
   "execution_count": 4,
   "id": "25a74a37",
   "metadata": {},
   "outputs": [
    {
     "data": {
      "text/plain": [
       "'19:05:45'"
      ]
     },
     "execution_count": 4,
     "metadata": {},
     "output_type": "execute_result"
    }
   ],
   "source": [
    "result"
   ]
  }
 ],
 "metadata": {
  "kernelspec": {
   "display_name": "Python 3 (ipykernel)",
   "language": "python",
   "name": "python3"
  },
  "language_info": {
   "codemirror_mode": {
    "name": "ipython",
    "version": 3
   },
   "file_extension": ".py",
   "mimetype": "text/x-python",
   "name": "python",
   "nbconvert_exporter": "python",
   "pygments_lexer": "ipython3",
   "version": "3.8.8"
  }
 },
 "nbformat": 4,
 "nbformat_minor": 5
}
