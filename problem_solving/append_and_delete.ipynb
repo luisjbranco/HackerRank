{
 "cells": [
  {
   "cell_type": "code",
   "execution_count": 4,
   "id": "30dcd13e",
   "metadata": {},
   "outputs": [
    {
     "name": "stdout",
     "output_type": "stream",
     "text": [
      "ashley\n",
      "ash\n",
      "1\n",
      "No\n"
     ]
    }
   ],
   "source": [
    "def appendAndDelete(s, t, k):\n",
    "    \n",
    "    same_characters = 0\n",
    "    for character_1, character_2 in zip(s, t):\n",
    "        if character_1 == character_2:\n",
    "            same_characters += 1\n",
    "        else:\n",
    "            break\n",
    "            \n",
    "    if k >= len(s) + len(t):\n",
    "        return \"Yes\"\n",
    "    elif k >= len(s) + len(t) - 2 * same_characters and k % 2 == (len(s) + len(t)) % 2:\n",
    "        return \"Yes\"\n",
    "    else:\n",
    "        return \"No\"\n",
    "\n",
    "if __name__ == '__main__':\n",
    "\n",
    "    s = input()\n",
    "    t = input()\n",
    "    k = int(input().strip())\n",
    "    result = appendAndDelete(s, t, k)\n",
    "    print(result)"
   ]
  },
  {
   "cell_type": "code",
   "execution_count": 5,
   "id": "1a9900d7",
   "metadata": {},
   "outputs": [
    {
     "name": "stdout",
     "output_type": "stream",
     "text": [
      "ashley\n",
      "ash\n",
      "3\n",
      "Yes\n"
     ]
    }
   ],
   "source": [
    "if __name__ == '__main__':\n",
    "\n",
    "    s = input()\n",
    "    t = input()\n",
    "    k = int(input().strip())\n",
    "    result = appendAndDelete(s, t, k)\n",
    "    print(result)"
   ]
  },
  {
   "cell_type": "code",
   "execution_count": null,
   "id": "3d02f1d1",
   "metadata": {},
   "outputs": [],
   "source": []
  }
 ],
 "metadata": {
  "kernelspec": {
   "display_name": "Python 3 (ipykernel)",
   "language": "python",
   "name": "python3"
  },
  "language_info": {
   "codemirror_mode": {
    "name": "ipython",
    "version": 3
   },
   "file_extension": ".py",
   "mimetype": "text/x-python",
   "name": "python",
   "nbconvert_exporter": "python",
   "pygments_lexer": "ipython3",
   "version": "3.8.8"
  }
 },
 "nbformat": 4,
 "nbformat_minor": 5
}
