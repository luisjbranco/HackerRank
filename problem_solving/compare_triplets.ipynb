{
 "cells": [
  {
   "cell_type": "code",
   "execution_count": 1,
   "id": "e9f2da69",
   "metadata": {},
   "outputs": [
    {
     "name": "stdout",
     "output_type": "stream",
     "text": [
      "5 6 7\n",
      "3 6 10\n",
      "1 1\n"
     ]
    }
   ],
   "source": [
    "a = list(map(int, input().rstrip().split()))\n",
    "b = list(map(int, input().rstrip().split()))\n",
    "\n",
    "def compareTriplets(a, b):\n",
    "\n",
    "    alice = 0\n",
    "    bob = 0\n",
    "\n",
    "    if a[0] < b[0]:\n",
    "        bob += 1\n",
    "    elif a[0] > b[0]:\n",
    "        alice += 1\n",
    "    elif a[0] == b[0]:\n",
    "        pass\n",
    "    if a[1] < b[1]:\n",
    "        bob += 1\n",
    "    elif a[1] > b[1]:\n",
    "        alice += 1\n",
    "    elif a[1] == b[1]:\n",
    "        pass\n",
    "    if a[2] < b[2]:\n",
    "        bob += 1\n",
    "    elif a[2] > b[2]:\n",
    "        alice += 1\n",
    "    elif a[2] == b[2]:\n",
    "        pass\n",
    "\n",
    "    print(alice, bob)\n",
    "\n",
    "compareTriplets(a,b)"
   ]
  }
 ],
 "metadata": {
  "kernelspec": {
   "display_name": "Python 3 (ipykernel)",
   "language": "python",
   "name": "python3"
  },
  "language_info": {
   "codemirror_mode": {
    "name": "ipython",
    "version": 3
   },
   "file_extension": ".py",
   "mimetype": "text/x-python",
   "name": "python",
   "nbconvert_exporter": "python",
   "pygments_lexer": "ipython3",
   "version": "3.8.8"
  }
 },
 "nbformat": 4,
 "nbformat_minor": 5
}
