{
 "cells": [
  {
   "cell_type": "code",
   "execution_count": 2,
   "id": "66176b85",
   "metadata": {
    "scrolled": true
   },
   "outputs": [
    {
     "name": "stdout",
     "output_type": "stream",
     "text": [
      "Array size: 6\n",
      "Array numbers-4 3 -9 0 4 1\n",
      "0.5\n",
      "0.333333\n",
      "0.166667\n"
     ]
    }
   ],
   "source": [
    "def plusMinus(arr):\n",
    "    \n",
    "    arr_len = len(arr)\n",
    "    positive = 0\n",
    "    negative = 0\n",
    "    zeros = 0\n",
    "    \n",
    "    for number in arr:\n",
    "        if number > 0:\n",
    "            positive += 1\n",
    "        elif number < 0:\n",
    "            negative += 1\n",
    "        else:\n",
    "            zeros += 1\n",
    "            \n",
    "    print(round(positive/arr_len, 6))\n",
    "    print(round(negative/arr_len, 6))\n",
    "    print(round(zeros/arr_len, 6))\n",
    "\n",
    "if __name__ == '__main__':\n",
    "    n = int(input(\"Array size: \").strip())\n",
    "\n",
    "    arr = list(map(int, input(\"Array numbers\").rstrip().split()))\n",
    "\n",
    "    plusMinus(arr)"
   ]
  }
 ],
 "metadata": {
  "kernelspec": {
   "display_name": "Python 3 (ipykernel)",
   "language": "python",
   "name": "python3"
  },
  "language_info": {
   "codemirror_mode": {
    "name": "ipython",
    "version": 3
   },
   "file_extension": ".py",
   "mimetype": "text/x-python",
   "name": "python",
   "nbconvert_exporter": "python",
   "pygments_lexer": "ipython3",
   "version": "3.8.8"
  }
 },
 "nbformat": 4,
 "nbformat_minor": 5
}
