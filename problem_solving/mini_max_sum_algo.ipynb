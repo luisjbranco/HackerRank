{
 "cells": [
  {
   "cell_type": "code",
   "execution_count": 8,
   "id": "cbaed20b",
   "metadata": {},
   "outputs": [
    {
     "name": "stdout",
     "output_type": "stream",
     "text": [
      "1 2 3 4 5\n",
      "10 14\n"
     ]
    }
   ],
   "source": [
    "def miniMaxSum(arr):\n",
    "    total = []\n",
    "    for i in range(len(arr)):\n",
    "        calc_arr = [x for j, x in enumerate(arr) if j != i]\n",
    "        calc = 0\n",
    "        for j in range(len(calc_arr)):\n",
    "            calc += calc_arr[j]\n",
    "        total.append(calc)\n",
    "    \n",
    "    print(min(total), max(total))\n",
    "    \n",
    "if __name__ == '__main__':\n",
    "\n",
    "    arr = list(map(int, input().rstrip().split()))\n",
    "\n",
    "    miniMaxSum(arr)"
   ]
  }
 ],
 "metadata": {
  "kernelspec": {
   "display_name": "Python 3 (ipykernel)",
   "language": "python",
   "name": "python3"
  },
  "language_info": {
   "codemirror_mode": {
    "name": "ipython",
    "version": 3
   },
   "file_extension": ".py",
   "mimetype": "text/x-python",
   "name": "python",
   "nbconvert_exporter": "python",
   "pygments_lexer": "ipython3",
   "version": "3.8.8"
  }
 },
 "nbformat": 4,
 "nbformat_minor": 5
}
